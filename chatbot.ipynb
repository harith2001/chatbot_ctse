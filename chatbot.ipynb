{
 "cells": [
  {
   "cell_type": "code",
   "execution_count": 1,
   "id": "1feb723d-47a5-4821-a5e4-238371ff5955",
   "metadata": {},
   "outputs": [],
   "source": [
    "from langchain.document_loaders import TextLoader"
   ]
  },
  {
   "cell_type": "code",
   "execution_count": 2,
   "id": "aa533a07-df5a-44de-b89e-5cc80e0e61c6",
   "metadata": {},
   "outputs": [],
   "source": [
    "from langchain.text_splitter import RecursiveCharacterTextSplitter"
   ]
  },
  {
   "cell_type": "code",
   "execution_count": 3,
   "id": "e6a0484b-a953-4cca-ac80-3df4ad5ad8e1",
   "metadata": {},
   "outputs": [],
   "source": [
    "# Load the text file\n",
    "loader = TextLoader(\"ctse_notes.txt\", encoding=\"utf-8\")\n",
    "documents = loader.load()"
   ]
  },
  {
   "cell_type": "code",
   "execution_count": 4,
   "id": "85a46b58-6071-4ce9-b43f-018cab5542d2",
   "metadata": {},
   "outputs": [],
   "source": [
    "# Split into smaller chunks (with some overlap)\n",
    "splitter = RecursiveCharacterTextSplitter(\n",
    "    chunk_size=500,\n",
    "    chunk_overlap=100\n",
    ")\n",
    "chunks = splitter.split_documents(documents)"
   ]
  },
  {
   "cell_type": "code",
   "execution_count": 5,
   "id": "407f9163-3b2f-4748-9f8c-1941d7cd6c96",
   "metadata": {},
   "outputs": [
    {
     "name": "stdout",
     "output_type": "stream",
     "text": [
      "Total chunks created: 301\n"
     ]
    }
   ],
   "source": [
    "print(f\"Total chunks created: {len(chunks)}\")"
   ]
  },
  {
   "cell_type": "code",
   "execution_count": 6,
   "id": "20cd0834-bf36-413b-9fd1-bc50e0b41cf3",
   "metadata": {},
   "outputs": [],
   "source": [
    "from langchain_huggingface import HuggingFaceEmbeddings\n",
    "from langchain.vectorstores import FAISS"
   ]
  },
  {
   "cell_type": "code",
   "execution_count": 7,
   "id": "b080a235-4052-40bf-83a8-b35237880994",
   "metadata": {},
   "outputs": [],
   "source": [
    "# Load Hugging Face model\n",
    "model = HuggingFaceEmbeddings(model_name=\"sentence-transformers/all-MiniLM-L6-v2\")"
   ]
  },
  {
   "cell_type": "code",
   "execution_count": 8,
   "id": "04aedcf9-b8ca-48bd-9d21-2edf374790e4",
   "metadata": {},
   "outputs": [],
   "source": [
    "# Embed and create FAISS index\n",
    "db = FAISS.from_documents(chunks, model)"
   ]
  },
  {
   "cell_type": "code",
   "execution_count": 9,
   "id": "58cca8de-214e-4bac-801b-97ed047c808b",
   "metadata": {},
   "outputs": [],
   "source": [
    "# Save for reuse (optional)\n",
    "db.save_local(\"ctse_faiss_mini_index\")"
   ]
  },
  {
   "cell_type": "code",
   "execution_count": 10,
   "id": "eb007346-ea1e-4f6f-976d-83d987b0c0d5",
   "metadata": {},
   "outputs": [
    {
     "name": "stdout",
     "output_type": "stream",
     "text": [
      "Embedding completed using MiniLM!\n"
     ]
    }
   ],
   "source": [
    "print(\"Embedding completed using MiniLM!\")"
   ]
  },
  {
   "cell_type": "code",
   "execution_count": 11,
   "id": "c50a4e92-5c71-4085-99aa-010457b0f58d",
   "metadata": {},
   "outputs": [],
   "source": [
    "#question\n",
    "query = \"What is microservices?\""
   ]
  },
  {
   "cell_type": "code",
   "execution_count": 12,
   "id": "bd07ac64-961f-4dec-a3ee-97b7545c6e76",
   "metadata": {},
   "outputs": [],
   "source": [
    "# Retrieve relevant chunks\n",
    "docs = db.similarity_search(query, k=3)"
   ]
  },
  {
   "cell_type": "code",
   "execution_count": 13,
   "id": "30a2a6f3-0d4a-4766-aa48-4306e91fbb0a",
   "metadata": {},
   "outputs": [
    {
     "name": "stdout",
     "output_type": "stream",
     "text": [
      "Top Matching Lecture Notes:\n",
      "\n",
      "Result 1:\n",
      "new change being deployed. \n",
      "• Microservices - The microservices architecture is a design approach to build a single \n",
      "application as a set of small services with each focusing on SRP. Each service can be \n",
      "created, deployed and run independently.\n",
      "• Infrastructure as Code - A practice in which infrastructure is provisioned and \n",
      "managed using code and software development techniques, such as version control \n",
      "and continuous integration.\n",
      "⚬Configuration Management\n",
      "⚬Policy as Code\n",
      "\n",
      "Result 2:\n",
      "Microservices: A Natural Progression\n",
      "• Emergence from Real-World Use: Microservices weren’t pre-planned \n",
      "but evolved as a response to practical needs in software \n",
      "development.\n",
      "• Responding to Change: Offering the agility and flexibility to adapt to \n",
      "new technologies and market demands.\n",
      "Monolithic Applications\n",
      "• Basic Structure\n",
      "• Single-Tiered Structure: Built as a single, unified unit.\n",
      "• Combined Modules: Functional modules like UI, server logic, and database interactions are \n",
      "combined.\n",
      "\n",
      "Result 3:\n",
      "as it often requires rewriting the entire application.\n",
      "Understanding Microservices \n",
      "• Core Characteristics\n",
      "• Small and Focused: Aimed at doing one thing well, avoiding sprawling \n",
      "codebases.\n",
      "• Cohesion and Single Responsibility: Adhering to the principle of grouping \n",
      "related code and separating unrelated functionalities.\n",
      "• Size and Scope\n",
      "• No Fixed Size: Size varies based on language expressiveness and domain \n",
      "complexity.\n",
      "• Team Alignment: Ideally sized to be managed by a small team.\n"
     ]
    }
   ],
   "source": [
    "print(\"Top Matching Lecture Notes:\")\n",
    "for i, doc in enumerate(docs):\n",
    "    print(f\"\\nResult {i+1}:\\n{doc.page_content}\")"
   ]
  },
  {
   "cell_type": "code",
   "execution_count": 14,
   "id": "4a631bd2-a1ff-47d9-9e70-5e9043124e3d",
   "metadata": {},
   "outputs": [
    {
     "name": "stdout",
     "output_type": "stream",
     "text": [
      "\n",
      " Best Matches from CTSE Notes:\n",
      "\n",
      "1. •\n",
      "https://www.redhat.com/en/topics/cloud-computing/what-is-paas \n",
      "•\n",
      "https://www.redhat.com/en/topics/cloud-computing/what-is-saas\n",
      "•\n",
      "Cloud Computing: Concepts, Technology & Architecture, Thomas Erl, et al., Prentice‐Hall, 2013,\n",
      "•\n",
      "The Datacenter as a Computer – Designing Warehouse‐Scale Machines, 3rd Edition, Morgan & Claypool \n",
      "Publishers, 2019\n",
      "•\n",
      "Cloud design patterns: Prescriptive architecture guidance for cloud applications, Homer, Alex, et al. , \n",
      "2014. \n",
      "Design Patterns\n",
      "\n",
      "2. 2014. \n",
      "Design Patterns \n",
      "A generally reusable solution to a recurring \n",
      "problem \n",
      " \n",
      " \n",
      "A template to solve the problem \n",
      "Best practices in approaching the problem \n",
      "Improve developer communication \n",
      "Cloud Application Development Issues \n",
      "Availability \n",
      "• The guaranteed proportion of time that the system \n",
      "is functional \n",
      "SLA – Service Level Agreement \n",
      "Availability (%) \n",
      "Downtime per year \n",
      "99.999\n",
      "99.95\n",
      "5 minutes\n",
      "1 hour\n",
      "99.99\n",
      "99.9\n",
      "99\n",
      "4.4 hours\n",
      "9 hours\n",
      "3.7 days\n",
      "Cloud Application Development Issues\n",
      "\n",
      "3. •\n",
      "Removing redundant programs, closing unnecessary server ports, and disabling\n",
      "unused services, internal root accounts, and guest access\n",
      "References\n",
      "• https://aws.amazon.com/compliance/shared-responsibility-model/\n",
      "• Chapter 6 and 10, Cloud Computing: Concepts, Technology & \n",
      "Architecture, Thomas Erl, et al., Prentice‐ Hall, 2013\n",
      "Microservice \n",
      "Design Patterns\n",
      "Ravindu Nirmal Fernando  \n",
      "SLIIT | March 2025\n",
      "https://ravindunfernando.com \n",
      "Design Patterns for migrating Monoliths to \n",
      "Microservices\n",
      "\n"
     ]
    }
   ],
   "source": [
    "def chat(query):\n",
    "    docs = db.similarity_search(query, k=3)\n",
    "    print(\"\\n Best Matches from CTSE Notes:\\n\")\n",
    "    for i, doc in enumerate(docs):\n",
    "        print(f\"{i+1}. {doc.page_content}\\n\")\n",
    "\n",
    "# Example\n",
    "chat(\"Explain Cloud design patterns \")"
   ]
  },
  {
   "cell_type": "code",
   "execution_count": 14,
   "id": "53b5f3bb-1abf-465f-9d90-5f275d470789",
   "metadata": {},
   "outputs": [],
   "source": [
    "# making a UI to the chatbot\n",
    "import ipywidgets as widgets\n",
    "from IPython.display import display, Markdown"
   ]
  },
  {
   "cell_type": "code",
   "execution_count": 15,
   "id": "be6560ac-3524-450e-93a8-32c1afb3c0fc",
   "metadata": {},
   "outputs": [],
   "source": [
    "# Create input and button\n",
    "input_box = widgets.Text(\n",
    "    placeholder='Ask a CTSE-related question...',\n",
    "    description='You:',\n",
    "    layout=widgets.Layout(width='80%')\n",
    ")\n",
    "\n",
    "submit_button = widgets.Button(\n",
    "    description='Ask',\n",
    "    button_style='success',\n",
    "    layout=widgets.Layout(width='10%')\n",
    ")\n",
    "\n",
    "output_box = widgets.Output()"
   ]
  },
  {
   "cell_type": "code",
   "execution_count": 16,
   "id": "c24583c5-23ed-48f7-bb63-55348cc1d0d0",
   "metadata": {},
   "outputs": [],
   "source": [
    "# Define function\n",
    "def on_submit(b):\n",
    "    query = input_box.value\n",
    "    if not query.strip():\n",
    "        return\n",
    "\n",
    "    docs = db.similarity_search(query, k=3)\n",
    "    output_box.clear_output()\n",
    "    \n",
    "    with output_box:\n",
    "        display(Markdown(f\"### 🔍 Top Matches for: `{query}`\\n\"))\n",
    "        for i, doc in enumerate(docs):\n",
    "            display(Markdown(f\"**Result {i+1}:**\\n{doc.page_content}\\n\"))"
   ]
  },
  {
   "cell_type": "code",
   "execution_count": 17,
   "id": "c68042ee-2258-457a-a347-6a471aae1f45",
   "metadata": {},
   "outputs": [],
   "source": [
    "# Bind button click to function\n",
    "submit_button.on_click(on_submit)"
   ]
  },
  {
   "cell_type": "code",
   "execution_count": 18,
   "id": "0f82e303-8e80-415b-bfea-dda709f421a1",
   "metadata": {},
   "outputs": [
    {
     "data": {
      "application/vnd.jupyter.widget-view+json": {
       "model_id": "773974f3805f4006b3bc25b3e269e4fd",
       "version_major": 2,
       "version_minor": 0
      },
      "text/plain": [
       "HBox(children=(Text(value='', description='You:', layout=Layout(width='80%'), placeholder='Ask a CTSE-related …"
      ]
     },
     "metadata": {},
     "output_type": "display_data"
    },
    {
     "data": {
      "application/vnd.jupyter.widget-view+json": {
       "model_id": "2e780edae3be4537915dceff3da6414e",
       "version_major": 2,
       "version_minor": 0
      },
      "text/plain": [
       "Output()"
      ]
     },
     "metadata": {},
     "output_type": "display_data"
    }
   ],
   "source": [
    "# Display all UI elements\n",
    "display(widgets.HBox([input_box, submit_button]))\n",
    "display(output_box)"
   ]
  },
  {
   "cell_type": "code",
   "execution_count": null,
   "id": "9c6ceedc-0d45-4478-9dbb-6130b1f24561",
   "metadata": {},
   "outputs": [],
   "source": []
  }
 ],
 "metadata": {
  "kernelspec": {
   "display_name": "Python 3 (ipykernel)",
   "language": "python",
   "name": "python3"
  },
  "language_info": {
   "codemirror_mode": {
    "name": "ipython",
    "version": 3
   },
   "file_extension": ".py",
   "mimetype": "text/x-python",
   "name": "python",
   "nbconvert_exporter": "python",
   "pygments_lexer": "ipython3",
   "version": "3.12.1"
  }
 },
 "nbformat": 4,
 "nbformat_minor": 5
}
