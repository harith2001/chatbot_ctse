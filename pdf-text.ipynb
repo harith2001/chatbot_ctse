{
 "cells": [
  {
   "cell_type": "code",
   "execution_count": 9,
   "id": "c606cb71-1ca0-4b06-933c-2c6148ddb8df",
   "metadata": {},
   "outputs": [],
   "source": [
    "import fitz"
   ]
  },
  {
   "cell_type": "code",
   "execution_count": 10,
   "id": "e7b9904e-5df7-4272-9772-2bee524ddf28",
   "metadata": {},
   "outputs": [],
   "source": [
    "def pdf_to_text(pdf_path):\n",
    "    text = \"\"\n",
    "    doc = fitz.open(pdf_path)\n",
    "    for page in doc:\n",
    "        text += page.get_text()\n",
    "    return text\n",
    "\n",
    "pdf_text = pdf_to_text(\"C:\\\\Users\\\\DELL\\\\Desktop\\\\CSTE\\\\Assignment 2\\\\Lecture Notes\\\\cste all in one.pdf\")"
   ]
  },
  {
   "cell_type": "code",
   "execution_count": 11,
   "id": "910e129f-9d01-465a-9032-817f9b469bf9",
   "metadata": {},
   "outputs": [],
   "source": [
    "with open(\"ctse_notes.txt\", \"w\", encoding=\"utf-8\") as f:\n",
    "    f.write(pdf_text)"
   ]
  },
  {
   "cell_type": "code",
   "execution_count": null,
   "id": "71376147-4014-4521-bb61-608c7862216b",
   "metadata": {},
   "outputs": [],
   "source": []
  }
 ],
 "metadata": {
  "kernelspec": {
   "display_name": "Python 3 (ipykernel)",
   "language": "python",
   "name": "python3"
  },
  "language_info": {
   "codemirror_mode": {
    "name": "ipython",
    "version": 3
   },
   "file_extension": ".py",
   "mimetype": "text/x-python",
   "name": "python",
   "nbconvert_exporter": "python",
   "pygments_lexer": "ipython3",
   "version": "3.12.1"
  }
 },
 "nbformat": 4,
 "nbformat_minor": 5
}
